{
 "cells": [
  {
   "cell_type": "code",
   "execution_count": 11,
   "id": "9b571793",
   "metadata": {},
   "outputs": [
    {
     "name": "stdout",
     "output_type": "stream",
     "text": [
      "(Decimal('8409'),)\n"
     ]
    }
   ],
   "source": [
    "import mysql.connector\n",
    "db=mysql.connector.connect(host=\"localhost\",user=\"root\",passwd=\"Tarang_067\",database=\"demo\")\n",
    "mycursor = db.cursor()\n",
    "\n",
    "mycursor.execute(\"SELECT sum(quantity) FROM data where SKU='Hot Chocolate Fudge'\")\n",
    "\n",
    "myresult = mycursor.fetchall()\n",
    "\n",
    "for x in myresult:\n",
    "  print(x)"
   ]
  },
  {
   "cell_type": "code",
   "execution_count": 2,
   "id": "3a142f2b",
   "metadata": {},
   "outputs": [
    {
     "name": "stdout",
     "output_type": "stream",
     "text": [
      "connected\n",
      "[('user',)]\n",
      "created\n"
     ]
    }
   ],
   "source": [
    "import mysql.connector\n",
    "\n",
    "\n",
    "class Connection:\n",
    "    def __init__(self):\n",
    "        self.con = mysql.connector.connect(host=\"localhost\", user=\"root\", passwd=\"Tarang_067\", database=\"new\")\n",
    "        print(\"connected\")\n",
    "#         query = 'create table if not exists user(userID int primary key,username varchar(200),phone varchar(12))'\n",
    "#         query='show databases'\n",
    "        mycursor = self.con.cursor()\n",
    "        mycursor.execute(\"SHOW TABLES\")\n",
    "        l = mycursor.fetchall()\n",
    "        print(l)   \n",
    "        \n",
    "#         print(mycursor.execute(query))\n",
    "        print(\"created\")\n",
    "\n",
    "cn = Connection()\n"
   ]
  },
  {
   "cell_type": "code",
   "execution_count": 3,
   "id": "b4ebf768",
   "metadata": {},
   "outputs": [
    {
     "name": "stdout",
     "output_type": "stream",
     "text": [
      "connected\n",
      "None\n",
      "created\n"
     ]
    }
   ],
   "source": [
    "import mysql.connector\n",
    "\n",
    "\n",
    "class Connection:\n",
    "    # constructor for connecting to database and creating table if not in existance\n",
    "    def __init__(self):\n",
    "        self.con = mysql.connector.connect(host=\"localhost\", user=\"root\", passwd=\"Tarang_067\", database=\"new\")\n",
    "        print(\"connected\")\n",
    "        query = 'create table if not exists user(userID int primary key,username varchar(200),phone varchar(12))'\n",
    "        mycursor = self.con.cursor()       \n",
    "        print(mycursor.execute(query))\n",
    "        print(\"created\")\n",
    "        \n",
    "        \n",
    "    # insert data    \n",
    "    def insert_data(self,userID,username,phone):\n",
    "        query= \"insert into user(userID,username,phone) values({},'{}','{}')\".format(userID,username,phone)\n",
    "        c=self.con.cursor()\n",
    "        c.execute(query)\n",
    "        self.con.commit()\n",
    "        print(\"user saved to db\")\n",
    "        \n",
    "        \n",
    "    # fetch the whole data from database   \n",
    "    def fetch_all(self):\n",
    "        mycursor = self.con.cursor()\n",
    "        mycursor.execute(\"SELECT * FROM user\")\n",
    "        myresult = mycursor.fetchall()\n",
    "        for x in myresult:\n",
    "#             print(\"user ID \",x[0])\n",
    "#             print(\"user name \",x[1])\n",
    "#             print(\"user phone \",x[2])\n",
    "#             print()\n",
    "#             print()\n",
    "              print(x)\n",
    "    \n",
    "    \n",
    "    # delete a row by ID\n",
    "    def delete_data(self,userID):\n",
    "        mycursor=self.con.cursor()\n",
    "        mycursor.execute(\"delete from user where userID={}\".format(userID))\n",
    "        self.con.commit()\n",
    "        print(\"deleted specified id \")\n",
    "       \n",
    "    \n",
    "    # order by\n",
    "    def order_by(self):\n",
    "        mycursor = self.con.cursor()\n",
    "        mycursor.execute(\"SELECT * FROM user order by username\")\n",
    "        myresult = mycursor.fetchall()\n",
    "        for x in myresult:\n",
    "              print(x)\n",
    "    \n",
    "    # update \n",
    "    def update_table(self,username,phone,userID):\n",
    "        mycursor = self.con.cursor()\n",
    "        mycursor.execute(\"update user set username='{}',phone='{}' where userID={}\".format(username,phone,userID))\n",
    "        self.con.commit()\n",
    "        print(\"updated\")\n",
    "        \n",
    "cn = Connection()\n",
    "# cn.insert_data(45,\"megha\",\"3456\")"
   ]
  },
  {
   "cell_type": "code",
   "execution_count": 4,
   "id": "f3cf6a92",
   "metadata": {},
   "outputs": [],
   "source": [
    "\n",
    "        \n",
    "# cn.insert_data(46,'keyur','234')        \n",
    "# cn.insert_data(47,'keval','234') \n",
    "# cn.insert_data(48,'viyanshi','234') \n",
    "# # cn.insert_data(46,'khushi','234') \n",
    "# cn.insert_data(42,'heet','234') \n",
    "# cn.insert_data(49,'kiran','234') \n"
   ]
  },
  {
   "cell_type": "code",
   "execution_count": 5,
   "id": "140e38e7",
   "metadata": {},
   "outputs": [
    {
     "name": "stdout",
     "output_type": "stream",
     "text": [
      "(42, 'heet', '234')\n",
      "(46, 'megha', '234')\n",
      "(47, 'keval', '234')\n",
      "(48, 'megha', '123')\n",
      "(49, 'kiran', '234')\n"
     ]
    }
   ],
   "source": [
    "cn.fetch_all()"
   ]
  },
  {
   "cell_type": "code",
   "execution_count": 6,
   "id": "f2507a61",
   "metadata": {},
   "outputs": [
    {
     "name": "stdout",
     "output_type": "stream",
     "text": [
      "deleted specified id \n"
     ]
    }
   ],
   "source": [
    "cn.delete_data(45)"
   ]
  },
  {
   "cell_type": "code",
   "execution_count": 7,
   "id": "aabffc6b",
   "metadata": {},
   "outputs": [
    {
     "name": "stdout",
     "output_type": "stream",
     "text": [
      "(42, 'heet', '234')\n",
      "(46, 'megha', '234')\n",
      "(47, 'keval', '234')\n",
      "(48, 'megha', '123')\n",
      "(49, 'kiran', '234')\n"
     ]
    }
   ],
   "source": [
    "cn.fetch_all()"
   ]
  },
  {
   "cell_type": "code",
   "execution_count": 8,
   "id": "8bce498e",
   "metadata": {},
   "outputs": [
    {
     "name": "stdout",
     "output_type": "stream",
     "text": [
      "(42, 'heet', '234')\n",
      "(47, 'keval', '234')\n",
      "(49, 'kiran', '234')\n",
      "(46, 'megha', '234')\n",
      "(48, 'megha', '123')\n"
     ]
    }
   ],
   "source": [
    "cn.order_by()"
   ]
  },
  {
   "cell_type": "code",
   "execution_count": 9,
   "id": "102f6957",
   "metadata": {},
   "outputs": [
    {
     "name": "stdout",
     "output_type": "stream",
     "text": [
      "updated\n"
     ]
    }
   ],
   "source": [
    "cn.update_table('megha',123,48)"
   ]
  },
  {
   "cell_type": "code",
   "execution_count": null,
   "id": "9f3f289f",
   "metadata": {},
   "outputs": [],
   "source": []
  }
 ],
 "metadata": {
  "kernelspec": {
   "display_name": "Python 3 (ipykernel)",
   "language": "python",
   "name": "python3"
  },
  "language_info": {
   "codemirror_mode": {
    "name": "ipython",
    "version": 3
   },
   "file_extension": ".py",
   "mimetype": "text/x-python",
   "name": "python",
   "nbconvert_exporter": "python",
   "pygments_lexer": "ipython3",
   "version": "3.8.10"
  }
 },
 "nbformat": 4,
 "nbformat_minor": 5
}
